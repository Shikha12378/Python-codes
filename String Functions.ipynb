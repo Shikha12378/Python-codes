{
 "cells": [
  {
   "cell_type": "markdown",
   "id": "9e1c512a",
   "metadata": {},
   "source": [
    "## String Functions"
   ]
  },
  {
   "cell_type": "code",
   "execution_count": null,
   "id": "a89836cb",
   "metadata": {},
   "outputs": [],
   "source": [
    "Strings are immutable (Unchangeable)\n",
    "\n",
    "Immutable >> We can not modify string once created"
   ]
  },
  {
   "cell_type": "code",
   "execution_count": 1,
   "id": "b3bcb889",
   "metadata": {},
   "outputs": [
    {
     "data": {
      "text/plain": [
       "[21, 45, 'hii', 'Bye', 88]"
      ]
     },
     "execution_count": 1,
     "metadata": {},
     "output_type": "execute_result"
    }
   ],
   "source": [
    "# Able to modify \n",
    "\n",
    "list1 = [21,45,'hii','Bye', 88]\n",
    "list1"
   ]
  },
  {
   "cell_type": "code",
   "execution_count": 3,
   "id": "99333ee4",
   "metadata": {},
   "outputs": [
    {
     "data": {
      "text/plain": [
       "[21, 45, 'Hello', 'Bye', 88]"
      ]
     },
     "execution_count": 3,
     "metadata": {},
     "output_type": "execute_result"
    }
   ],
   "source": [
    "list1[2] = 'Hello'\n",
    "list1"
   ]
  },
  {
   "cell_type": "code",
   "execution_count": 4,
   "id": "0af1bffe",
   "metadata": {},
   "outputs": [
    {
     "data": {
      "text/plain": [
       "[21, 45, 'Hello', 88]"
      ]
     },
     "execution_count": 4,
     "metadata": {},
     "output_type": "execute_result"
    }
   ],
   "source": [
    "del list1[3]\n",
    "list1"
   ]
  },
  {
   "cell_type": "code",
   "execution_count": 6,
   "id": "9bcfba4f",
   "metadata": {},
   "outputs": [
    {
     "ename": "TypeError",
     "evalue": "'str' object does not support item assignment",
     "output_type": "error",
     "traceback": [
      "\u001b[1;31m---------------------------------------------------------------------------\u001b[0m",
      "\u001b[1;31mTypeError\u001b[0m                                 Traceback (most recent call last)",
      "Input \u001b[1;32mIn [6]\u001b[0m, in \u001b[0;36m<cell line: 5>\u001b[1;34m()\u001b[0m\n\u001b[0;32m      1\u001b[0m \u001b[38;5;66;03m# Unable to modify \u001b[39;00m\n\u001b[0;32m      3\u001b[0m str1 \u001b[38;5;241m=\u001b[39m \u001b[38;5;124m'\u001b[39m\u001b[38;5;124mPython\u001b[39m\u001b[38;5;124m'\u001b[39m\n\u001b[1;32m----> 5\u001b[0m \u001b[43mstr1\u001b[49m\u001b[43m[\u001b[49m\u001b[38;5;241;43m2\u001b[39;49m\u001b[43m]\u001b[49m \u001b[38;5;241m=\u001b[39m \u001b[38;5;124m'\u001b[39m\u001b[38;5;124mT\u001b[39m\u001b[38;5;124m'\u001b[39m\n\u001b[0;32m      6\u001b[0m str1\n",
      "\u001b[1;31mTypeError\u001b[0m: 'str' object does not support item assignment"
     ]
    }
   ],
   "source": [
    "# Unable to modify \n",
    "\n",
    "str1 = 'Python'\n",
    "\n",
    "str1[2] = 'T'\n",
    "str1"
   ]
  },
  {
   "cell_type": "code",
   "execution_count": 7,
   "id": "9b1c26b8",
   "metadata": {},
   "outputs": [
    {
     "ename": "TypeError",
     "evalue": "'str' object doesn't support item deletion",
     "output_type": "error",
     "traceback": [
      "\u001b[1;31m---------------------------------------------------------------------------\u001b[0m",
      "\u001b[1;31mTypeError\u001b[0m                                 Traceback (most recent call last)",
      "Input \u001b[1;32mIn [7]\u001b[0m, in \u001b[0;36m<cell line: 1>\u001b[1;34m()\u001b[0m\n\u001b[1;32m----> 1\u001b[0m \u001b[38;5;28;01mdel\u001b[39;00m str1[\u001b[38;5;241m2\u001b[39m]\n",
      "\u001b[1;31mTypeError\u001b[0m: 'str' object doesn't support item deletion"
     ]
    }
   ],
   "source": [
    "del str1[2]"
   ]
  },
  {
   "cell_type": "code",
   "execution_count": 9,
   "id": "e48e0473",
   "metadata": {},
   "outputs": [
    {
     "name": "stdout",
     "output_type": "stream",
     "text": [
      "Python\n",
      "tho\n"
     ]
    }
   ],
   "source": [
    "# Overwrite\n",
    "str1 = 'Python'\n",
    "print(str1)\n",
    "\n",
    "str1 = str1[2:5]\n",
    "print(str1)"
   ]
  },
  {
   "cell_type": "code",
   "execution_count": 10,
   "id": "b4c27347",
   "metadata": {},
   "outputs": [
    {
     "data": {
      "text/plain": [
       "'MachineLearning'"
      ]
     },
     "execution_count": 10,
     "metadata": {},
     "output_type": "execute_result"
    }
   ],
   "source": [
    "str1 = 'Machine'\n",
    "str2 = 'Learning'\n",
    "\n",
    "str1 + str2    # Concatenation (Concat)"
   ]
  },
  {
   "cell_type": "code",
   "execution_count": 11,
   "id": "3740ccf3",
   "metadata": {},
   "outputs": [
    {
     "data": {
      "text/plain": [
       "'Machine'"
      ]
     },
     "execution_count": 11,
     "metadata": {},
     "output_type": "execute_result"
    }
   ],
   "source": [
    "str1"
   ]
  },
  {
   "cell_type": "code",
   "execution_count": 12,
   "id": "e7bf84b4",
   "metadata": {},
   "outputs": [
    {
     "data": {
      "text/plain": [
       "'MachineLearning'"
      ]
     },
     "execution_count": 12,
     "metadata": {},
     "output_type": "execute_result"
    }
   ],
   "source": [
    "str1 = 'Machine'\n",
    "str2 = 'Learning'\n",
    "\n",
    "str3 = str1 + str2    # Concatenation (Concat)\n",
    "str3"
   ]
  },
  {
   "cell_type": "code",
   "execution_count": 13,
   "id": "f74b3fa8",
   "metadata": {},
   "outputs": [
    {
     "data": {
      "text/plain": [
       "'MachineLearningDataScience'"
      ]
     },
     "execution_count": 13,
     "metadata": {},
     "output_type": "execute_result"
    }
   ],
   "source": [
    "str1 = 'Machine'\n",
    "str2 = 'Learning'\n",
    "str3 = 'Data'\n",
    "str4 = 'Science'\n",
    "str5 = str1 + str2 + str3 + str4   # Concatenation (Concat)\n",
    "str5"
   ]
  },
  {
   "cell_type": "code",
   "execution_count": 14,
   "id": "881f98e5",
   "metadata": {},
   "outputs": [
    {
     "data": {
      "text/plain": [
       "'Machine Learning'"
      ]
     },
     "execution_count": 14,
     "metadata": {},
     "output_type": "execute_result"
    }
   ],
   "source": [
    "str1 = 'Machine'\n",
    "str2 = 'Learning'\n",
    "\n",
    "str1 + ' ' + str2"
   ]
  },
  {
   "cell_type": "code",
   "execution_count": 15,
   "id": "fb2ab9ee",
   "metadata": {},
   "outputs": [
    {
     "data": {
      "text/plain": [
       "str"
      ]
     },
     "execution_count": 15,
     "metadata": {},
     "output_type": "execute_result"
    }
   ],
   "source": [
    "a = ' '\n",
    "type(a)"
   ]
  },
  {
   "cell_type": "code",
   "execution_count": 16,
   "id": "405321f0",
   "metadata": {},
   "outputs": [
    {
     "data": {
      "text/plain": [
       "'Machine '"
      ]
     },
     "execution_count": 16,
     "metadata": {},
     "output_type": "execute_result"
    }
   ],
   "source": [
    "str1 = 'Machine'\n",
    "str1 + ' '"
   ]
  },
  {
   "cell_type": "code",
   "execution_count": 17,
   "id": "7db4db2b",
   "metadata": {},
   "outputs": [
    {
     "ename": "TypeError",
     "evalue": "can only concatenate str (not \"int\") to str",
     "output_type": "error",
     "traceback": [
      "\u001b[1;31m---------------------------------------------------------------------------\u001b[0m",
      "\u001b[1;31mTypeError\u001b[0m                                 Traceback (most recent call last)",
      "Input \u001b[1;32mIn [17]\u001b[0m, in \u001b[0;36m<cell line: 1>\u001b[1;34m()\u001b[0m\n\u001b[1;32m----> 1\u001b[0m \u001b[43mstr1\u001b[49m\u001b[43m \u001b[49m\u001b[38;5;241;43m+\u001b[39;49m\u001b[43m \u001b[49m\u001b[38;5;241;43m5\u001b[39;49m\n",
      "\u001b[1;31mTypeError\u001b[0m: can only concatenate str (not \"int\") to str"
     ]
    }
   ],
   "source": [
    "str1 + 5"
   ]
  },
  {
   "cell_type": "code",
   "execution_count": 18,
   "id": "00364486",
   "metadata": {},
   "outputs": [
    {
     "data": {
      "text/plain": [
       "'MachineMachineMachineMachineMachine'"
      ]
     },
     "execution_count": 18,
     "metadata": {},
     "output_type": "execute_result"
    }
   ],
   "source": [
    "str1 * 5"
   ]
  },
  {
   "cell_type": "code",
   "execution_count": null,
   "id": "1702af04",
   "metadata": {},
   "outputs": [],
   "source": [
    "'xxxxxxxxxxxxxxxxx End xxxxxxxxxxxxxxxx'"
   ]
  },
  {
   "cell_type": "code",
   "execution_count": 19,
   "id": "e98ad009",
   "metadata": {},
   "outputs": [
    {
     "data": {
      "text/plain": [
       "'####################'"
      ]
     },
     "execution_count": 19,
     "metadata": {},
     "output_type": "execute_result"
    }
   ],
   "source": [
    "'#' *20"
   ]
  },
  {
   "cell_type": "code",
   "execution_count": 20,
   "id": "815bc559",
   "metadata": {},
   "outputs": [
    {
     "data": {
      "text/plain": [
       "'# # # # # # # # # # # # # # # # # # # # '"
      ]
     },
     "execution_count": 20,
     "metadata": {},
     "output_type": "execute_result"
    }
   ],
   "source": [
    "('#' + ' ') *20"
   ]
  },
  {
   "cell_type": "code",
   "execution_count": 21,
   "id": "5a302ebb",
   "metadata": {},
   "outputs": [
    {
     "data": {
      "text/plain": [
       "'Machine Machine Machine Machine Machine '"
      ]
     },
     "execution_count": 21,
     "metadata": {},
     "output_type": "execute_result"
    }
   ],
   "source": [
    "str1 = 'Machine'\n",
    "(str1 + ' ') * 5"
   ]
  },
  {
   "cell_type": "markdown",
   "id": "268dba9a",
   "metadata": {},
   "source": [
    "## String Functions"
   ]
  },
  {
   "cell_type": "code",
   "execution_count": 26,
   "id": "1d2bc887",
   "metadata": {},
   "outputs": [
    {
     "name": "stdout",
     "output_type": "stream",
     "text": [
      "['__add__', '__class__', '__contains__', '__delattr__', '__dir__', '__doc__', '__eq__', '__format__', '__ge__', '__getattribute__', '__getitem__', '__getnewargs__', '__gt__', '__hash__', '__init__', '__init_subclass__', '__iter__', '__le__', '__len__', '__lt__', '__mod__', '__mul__', '__ne__', '__new__', '__reduce__', '__reduce_ex__', '__repr__', '__rmod__', '__rmul__', '__setattr__', '__sizeof__', '__str__', '__subclasshook__', 'capitalize', 'casefold', 'center', 'count', 'encode', 'endswith', 'expandtabs', 'find', 'format', 'format_map', 'index', 'isalnum', 'isalpha', 'isascii', 'isdecimal', 'isdigit', 'isidentifier', 'islower', 'isnumeric', 'isprintable', 'isspace', 'istitle', 'isupper', 'join', 'ljust', 'lower', 'lstrip', 'maketrans', 'partition', 'removeprefix', 'removesuffix', 'replace', 'rfind', 'rindex', 'rjust', 'rpartition', 'rsplit', 'rstrip', 'split', 'splitlines', 'startswith', 'strip', 'swapcase', 'title', 'translate', 'upper', 'zfill']\n"
     ]
    }
   ],
   "source": [
    "print(dir(str))"
   ]
  },
  {
   "cell_type": "markdown",
   "id": "7dbd9e1e",
   "metadata": {},
   "source": [
    "#### 1. Capitalize()"
   ]
  },
  {
   "cell_type": "code",
   "execution_count": null,
   "id": "02c8c893",
   "metadata": {},
   "outputs": [],
   "source": [
    "It will capitalize only first char of the string\n",
    "first char >> zero index item"
   ]
  },
  {
   "cell_type": "code",
   "execution_count": 27,
   "id": "d13c8ca7",
   "metadata": {},
   "outputs": [
    {
     "data": {
      "text/plain": [
       "'Machine learning'"
      ]
     },
     "execution_count": 27,
     "metadata": {},
     "output_type": "execute_result"
    }
   ],
   "source": [
    "str1 = 'machine learning'\n",
    "str1.capitalize()"
   ]
  },
  {
   "cell_type": "code",
   "execution_count": 28,
   "id": "795f66d2",
   "metadata": {},
   "outputs": [
    {
     "data": {
      "text/plain": [
       "'Machine learning'"
      ]
     },
     "execution_count": 28,
     "metadata": {},
     "output_type": "execute_result"
    }
   ],
   "source": [
    "str1 = 'machine LEarning'\n",
    "str1.capitalize()"
   ]
  },
  {
   "cell_type": "code",
   "execution_count": 29,
   "id": "4b6f05e1",
   "metadata": {},
   "outputs": [
    {
     "data": {
      "text/plain": [
       "'Machine learning'"
      ]
     },
     "execution_count": 29,
     "metadata": {},
     "output_type": "execute_result"
    }
   ],
   "source": [
    "str1 = 'MACHINE LEARNING'\n",
    "str1.capitalize()"
   ]
  },
  {
   "cell_type": "markdown",
   "id": "e523aafd",
   "metadata": {},
   "source": [
    "#### 2. upper()"
   ]
  },
  {
   "cell_type": "code",
   "execution_count": null,
   "id": "b80e1229",
   "metadata": {},
   "outputs": [],
   "source": [
    "It will convert into upper case"
   ]
  },
  {
   "cell_type": "code",
   "execution_count": 30,
   "id": "70dca2dc",
   "metadata": {},
   "outputs": [
    {
     "data": {
      "text/plain": [
       "'MACHINE LEARNING'"
      ]
     },
     "execution_count": 30,
     "metadata": {},
     "output_type": "execute_result"
    }
   ],
   "source": [
    "str1 = 'machine learning'\n",
    "str1.upper()"
   ]
  },
  {
   "cell_type": "code",
   "execution_count": 31,
   "id": "ed87f0bc",
   "metadata": {},
   "outputs": [
    {
     "data": {
      "text/plain": [
       "'machine learning'"
      ]
     },
     "execution_count": 31,
     "metadata": {},
     "output_type": "execute_result"
    }
   ],
   "source": [
    "str1"
   ]
  },
  {
   "cell_type": "code",
   "execution_count": 35,
   "id": "06de3900",
   "metadata": {},
   "outputs": [
    {
     "data": {
      "text/plain": [
       "[21, 45, 'hii', 'Bye', 88]"
      ]
     },
     "execution_count": 35,
     "metadata": {},
     "output_type": "execute_result"
    }
   ],
   "source": [
    "list1 = [21,45,'hii','Bye', 88]\n",
    "list1"
   ]
  },
  {
   "cell_type": "code",
   "execution_count": 36,
   "id": "5c682ca1",
   "metadata": {},
   "outputs": [],
   "source": [
    "list1.reverse()"
   ]
  },
  {
   "cell_type": "code",
   "execution_count": 37,
   "id": "6fde3377",
   "metadata": {},
   "outputs": [
    {
     "data": {
      "text/plain": [
       "[88, 'Bye', 'hii', 45, 21]"
      ]
     },
     "execution_count": 37,
     "metadata": {},
     "output_type": "execute_result"
    }
   ],
   "source": [
    "list1"
   ]
  },
  {
   "cell_type": "code",
   "execution_count": 38,
   "id": "285454ce",
   "metadata": {},
   "outputs": [
    {
     "data": {
      "text/plain": [
       "'MACHINE LEARNING'"
      ]
     },
     "execution_count": 38,
     "metadata": {},
     "output_type": "execute_result"
    }
   ],
   "source": [
    "str1 = 'MACHINE learning'\n",
    "str1.upper()"
   ]
  },
  {
   "cell_type": "markdown",
   "id": "2b807a59",
   "metadata": {},
   "source": [
    "#### 3. lower()"
   ]
  },
  {
   "cell_type": "code",
   "execution_count": null,
   "id": "a49a6e6f",
   "metadata": {},
   "outputs": [],
   "source": [
    "It will convert into lowercase"
   ]
  },
  {
   "cell_type": "code",
   "execution_count": 39,
   "id": "8f659130",
   "metadata": {},
   "outputs": [
    {
     "data": {
      "text/plain": [
       "'machine learning'"
      ]
     },
     "execution_count": 39,
     "metadata": {},
     "output_type": "execute_result"
    }
   ],
   "source": [
    "str1 = 'MACHINE learning'\n",
    "str1.lower()"
   ]
  },
  {
   "cell_type": "code",
   "execution_count": 40,
   "id": "d4aaddfc",
   "metadata": {},
   "outputs": [
    {
     "data": {
      "text/plain": [
       "'machine learning is a branch of artificial intelligence (ai) and computer science which\\nfocuses on the use of data and algorithms to imitate the way that humans learn, gradually improving its accuracy.'"
      ]
     },
     "execution_count": 40,
     "metadata": {},
     "output_type": "execute_result"
    }
   ],
   "source": [
    "str2 = '''Machine learning is a branch of artificial intelligence (AI) and computer science which\n",
    "focuses on the use of data and algorithms to imitate the way that humans learn, gradually improving its accuracy.'''\n",
    "str2.lower()"
   ]
  },
  {
   "cell_type": "markdown",
   "id": "a364431d",
   "metadata": {},
   "source": [
    "#### 4. title()"
   ]
  },
  {
   "cell_type": "code",
   "execution_count": null,
   "id": "6fe7e8aa",
   "metadata": {},
   "outputs": [],
   "source": [
    "It will convert into title case(Capitalize each word)\n",
    "title case >> 'virat kohli' >> 'Virat Kohli'"
   ]
  },
  {
   "cell_type": "code",
   "execution_count": 41,
   "id": "ad456720",
   "metadata": {},
   "outputs": [
    {
     "data": {
      "text/plain": [
       "'Virat Kohli'"
      ]
     },
     "execution_count": 41,
     "metadata": {},
     "output_type": "execute_result"
    }
   ],
   "source": [
    "str4 = 'virat kohli'\n",
    "str4.title()"
   ]
  },
  {
   "cell_type": "code",
   "execution_count": 45,
   "id": "486e25f2",
   "metadata": {},
   "outputs": [
    {
     "name": "stdout",
     "output_type": "stream",
     "text": [
      "Virat Kohli\n",
      "VIRAT KOHLI\n"
     ]
    }
   ],
   "source": [
    "str4 = 'virat kohli'\n",
    "adhar_name = str4.title()\n",
    "pan_name = str4.upper()\n",
    "print(adhar_name)\n",
    "print(pan_name)"
   ]
  },
  {
   "cell_type": "code",
   "execution_count": 46,
   "id": "26a4ea40",
   "metadata": {},
   "outputs": [
    {
     "data": {
      "text/plain": [
       "False"
      ]
     },
     "execution_count": 46,
     "metadata": {},
     "output_type": "execute_result"
    }
   ],
   "source": [
    "adhar_name == pan_name"
   ]
  },
  {
   "cell_type": "code",
   "execution_count": 49,
   "id": "7cd38431",
   "metadata": {},
   "outputs": [
    {
     "name": "stdout",
     "output_type": "stream",
     "text": [
      "PAN Name is : VIRAT KOHLI\n",
      "Adhar Name is : virat kohli\n"
     ]
    },
    {
     "data": {
      "text/plain": [
       "False"
      ]
     },
     "execution_count": 49,
     "metadata": {},
     "output_type": "execute_result"
    }
   ],
   "source": [
    "pan_name = 'VIRAT KOHLI'\n",
    "pan_name = pan_name.upper()\n",
    "\n",
    "print(f'PAN Name is : {pan_name}')\n",
    "\n",
    "adhar_name = 'Virat Kohli'\n",
    "adhar_name = adhar_name.lower()\n",
    "\n",
    "print(f'Adhar Name is : {adhar_name}')\n",
    "\n",
    "pan_name == adhar_name"
   ]
  },
  {
   "cell_type": "code",
   "execution_count": 50,
   "id": "3f633a19",
   "metadata": {},
   "outputs": [
    {
     "name": "stdout",
     "output_type": "stream",
     "text": [
      "PAN Name is : VIRAT KOHLI\n",
      "Adhar Name is : VIRAT KOHLI\n"
     ]
    },
    {
     "data": {
      "text/plain": [
       "True"
      ]
     },
     "execution_count": 50,
     "metadata": {},
     "output_type": "execute_result"
    }
   ],
   "source": [
    "pan_name = 'VIRAT KOHLI'\n",
    "pan_name = pan_name.upper()\n",
    "\n",
    "print(f'PAN Name is : {pan_name}')\n",
    "\n",
    "adhar_name = 'Virat Kohli'\n",
    "adhar_name = adhar_name.upper()\n",
    "\n",
    "print(f'Adhar Name is : {adhar_name}')\n",
    "\n",
    "pan_name == adhar_name"
   ]
  },
  {
   "cell_type": "code",
   "execution_count": 51,
   "id": "6c19000d",
   "metadata": {},
   "outputs": [
    {
     "name": "stdout",
     "output_type": "stream",
     "text": [
      "PAN Name is : VIRAT KOHLI\n",
      "Adhar Name is : virat kohli\n",
      "Both names are different\n"
     ]
    }
   ],
   "source": [
    "pan_name = 'VIRAT KOHLI'\n",
    "pan_name = pan_name.upper()\n",
    "\n",
    "print(f'PAN Name is : {pan_name}')\n",
    "\n",
    "adhar_name = 'Virat Kohli'\n",
    "adhar_name = adhar_name.lower()\n",
    "\n",
    "print(f'Adhar Name is : {adhar_name}')\n",
    "\n",
    "if pan_name == adhar_name:\n",
    "    print('Both names are same')\n",
    "    \n",
    "else:\n",
    "    print('Both names are different')"
   ]
  },
  {
   "cell_type": "code",
   "execution_count": 52,
   "id": "24372c4e",
   "metadata": {},
   "outputs": [
    {
     "name": "stdout",
     "output_type": "stream",
     "text": [
      "PAN Name is : VIRAT KOHLI\n",
      "Adhar Name is : VIRAT KOHLI\n",
      "Both names are same\n"
     ]
    }
   ],
   "source": [
    "pan_name = 'VIRAT KOHLI'\n",
    "pan_name = pan_name.upper()\n",
    "\n",
    "print(f'PAN Name is : {pan_name}')\n",
    "\n",
    "adhar_name = 'Virat Kohli'\n",
    "adhar_name = adhar_name.upper()\n",
    "\n",
    "print(f'Adhar Name is : {adhar_name}')\n",
    "\n",
    "if pan_name == adhar_name:\n",
    "    print('Both names are same')\n",
    "    \n",
    "else:\n",
    "    print('Both names are different')"
   ]
  },
  {
   "cell_type": "code",
   "execution_count": 53,
   "id": "f9218e81",
   "metadata": {},
   "outputs": [
    {
     "name": "stdout",
     "output_type": "stream",
     "text": [
      "PAN Name is : Virat Kohli\n",
      "Adhar Name is : Virat Kohli\n",
      "Both names are same\n"
     ]
    }
   ],
   "source": [
    "pan_name = 'VIRAT KOHLI'\n",
    "pan_name = pan_name.title()\n",
    "\n",
    "print(f'PAN Name is : {pan_name}')\n",
    "\n",
    "adhar_name = 'Virat Kohli'\n",
    "adhar_name = adhar_name.title()\n",
    "\n",
    "print(f'Adhar Name is : {adhar_name}')\n",
    "\n",
    "if pan_name == adhar_name:\n",
    "    print('Both names are same')\n",
    "    \n",
    "else:\n",
    "    print('Both names are different')"
   ]
  },
  {
   "cell_type": "markdown",
   "id": "1ff2f1ac",
   "metadata": {},
   "source": [
    "#### 5. swapcase"
   ]
  },
  {
   "cell_type": "code",
   "execution_count": null,
   "id": "137e3c31",
   "metadata": {},
   "outputs": [],
   "source": [
    "It convert the case of all char"
   ]
  },
  {
   "cell_type": "code",
   "execution_count": 54,
   "id": "532d1d95",
   "metadata": {},
   "outputs": [
    {
     "data": {
      "text/plain": [
       "'nEUrAL nETwORKs'"
      ]
     },
     "execution_count": 54,
     "metadata": {},
     "output_type": "execute_result"
    }
   ],
   "source": [
    "str1 = 'NeuRal NetWorkS'\n",
    "str1.swapcase()"
   ]
  },
  {
   "cell_type": "code",
   "execution_count": 55,
   "id": "37051324",
   "metadata": {},
   "outputs": [
    {
     "data": {
      "text/plain": [
       "'nEUrAL nETwORKs #$%^'"
      ]
     },
     "execution_count": 55,
     "metadata": {},
     "output_type": "execute_result"
    }
   ],
   "source": [
    "str1 = 'NeuRal NetWorkS #$%^'\n",
    "str1.swapcase()"
   ]
  },
  {
   "cell_type": "markdown",
   "id": "82d1ec1a",
   "metadata": {},
   "source": [
    "#### 6. lstrip"
   ]
  },
  {
   "cell_type": "code",
   "execution_count": null,
   "id": "ccbb3159",
   "metadata": {},
   "outputs": [],
   "source": [
    "Remove all leading white spaces"
   ]
  },
  {
   "cell_type": "code",
   "execution_count": 57,
   "id": "bee15d05",
   "metadata": {},
   "outputs": [
    {
     "data": {
      "text/plain": [
       "'Python'"
      ]
     },
     "execution_count": 57,
     "metadata": {},
     "output_type": "execute_result"
    }
   ],
   "source": [
    "str2 = '            Python'\n",
    "str2.lstrip()"
   ]
  },
  {
   "cell_type": "code",
   "execution_count": 58,
   "id": "43172bbf",
   "metadata": {},
   "outputs": [
    {
     "data": {
      "text/plain": [
       "'Python         '"
      ]
     },
     "execution_count": 58,
     "metadata": {},
     "output_type": "execute_result"
    }
   ],
   "source": [
    "str2 = '            Python         '\n",
    "str2.lstrip()"
   ]
  },
  {
   "cell_type": "code",
   "execution_count": 59,
   "id": "02a25d53",
   "metadata": {},
   "outputs": [
    {
     "data": {
      "text/plain": [
       "'Python            Coding           '"
      ]
     },
     "execution_count": 59,
     "metadata": {},
     "output_type": "execute_result"
    }
   ],
   "source": [
    "str2 = '            Python            Coding           '\n",
    "str2.lstrip()"
   ]
  },
  {
   "cell_type": "code",
   "execution_count": null,
   "id": "65d1315a",
   "metadata": {},
   "outputs": [],
   "source": [
    "OCR >> Optical CHaracter Recognition\n",
    "    >> It is used to convert images to text\n",
    "    \n",
    "    Pytesseract OCR\n",
    "    Google Vision\n",
    "    Amazon Textract\n",
    "    Keras-OCR\n",
    "    Easy-OCR"
   ]
  },
  {
   "cell_type": "markdown",
   "id": "92af4dbf",
   "metadata": {},
   "source": [
    "#### 7. rstrip"
   ]
  },
  {
   "cell_type": "code",
   "execution_count": null,
   "id": "f82606a8",
   "metadata": {},
   "outputs": [],
   "source": [
    "Remove all trailing spaces"
   ]
  },
  {
   "cell_type": "code",
   "execution_count": 60,
   "id": "d3beb041",
   "metadata": {},
   "outputs": [
    {
     "data": {
      "text/plain": [
       "'            Python            Coding'"
      ]
     },
     "execution_count": 60,
     "metadata": {},
     "output_type": "execute_result"
    }
   ],
   "source": [
    "str2 = '            Python            Coding           '\n",
    "str2.rstrip()"
   ]
  },
  {
   "cell_type": "code",
   "execution_count": 61,
   "id": "bd0d35e9",
   "metadata": {},
   "outputs": [
    {
     "data": {
      "text/plain": [
       "'            Python            Coding           ,'"
      ]
     },
     "execution_count": 61,
     "metadata": {},
     "output_type": "execute_result"
    }
   ],
   "source": [
    "str2 = '            Python            Coding           ,'\n",
    "str2.rstrip()"
   ]
  },
  {
   "cell_type": "markdown",
   "id": "d659f051",
   "metadata": {},
   "source": [
    "#### 8. strip"
   ]
  },
  {
   "cell_type": "code",
   "execution_count": null,
   "id": "8ff89c77",
   "metadata": {},
   "outputs": [],
   "source": [
    "lstrip + rstrip >> strip"
   ]
  },
  {
   "cell_type": "code",
   "execution_count": 62,
   "id": "40ad14e1",
   "metadata": {},
   "outputs": [
    {
     "data": {
      "text/plain": [
       "'Python            Coding'"
      ]
     },
     "execution_count": 62,
     "metadata": {},
     "output_type": "execute_result"
    }
   ],
   "source": [
    "str2 = '            Python            Coding           '\n",
    "str2.strip()"
   ]
  },
  {
   "cell_type": "code",
   "execution_count": 63,
   "id": "11340130",
   "metadata": {},
   "outputs": [
    {
     "data": {
      "text/plain": [
       "'Python            Coding'"
      ]
     },
     "execution_count": 63,
     "metadata": {},
     "output_type": "execute_result"
    }
   ],
   "source": [
    "str2 = 'Python            Coding           '\n",
    "str2.strip()"
   ]
  },
  {
   "cell_type": "code",
   "execution_count": 64,
   "id": "f92670dc",
   "metadata": {},
   "outputs": [
    {
     "data": {
      "text/plain": [
       "'Python Coding'"
      ]
     },
     "execution_count": 64,
     "metadata": {},
     "output_type": "execute_result"
    }
   ],
   "source": [
    "str2 = '           Python Coding'\n",
    "str2.strip()"
   ]
  },
  {
   "cell_type": "markdown",
   "id": "1b94d27a",
   "metadata": {},
   "source": [
    "#### 9. replace"
   ]
  },
  {
   "cell_type": "code",
   "execution_count": null,
   "id": "2bba1f06",
   "metadata": {},
   "outputs": [],
   "source": [
    "str.replace(old_str, new_str)"
   ]
  },
  {
   "cell_type": "code",
   "execution_count": 66,
   "id": "a210a32f",
   "metadata": {},
   "outputs": [
    {
     "data": {
      "text/plain": [
       "'Machine Learning and Data Science'"
      ]
     },
     "execution_count": 66,
     "metadata": {},
     "output_type": "execute_result"
    }
   ],
   "source": [
    "str6 = 'Python and Data Science'\n",
    "str6.replace('Python', 'Machine Learning')"
   ]
  },
  {
   "cell_type": "code",
   "execution_count": 68,
   "id": "49df5166",
   "metadata": {},
   "outputs": [
    {
     "data": {
      "text/plain": [
       "'Python and Data Science'"
      ]
     },
     "execution_count": 68,
     "metadata": {},
     "output_type": "execute_result"
    }
   ],
   "source": [
    "str6"
   ]
  },
  {
   "cell_type": "code",
   "execution_count": 69,
   "id": "f74848ac",
   "metadata": {},
   "outputs": [
    {
     "data": {
      "text/plain": [
       "'Machine Learning and Data Science'"
      ]
     },
     "execution_count": 69,
     "metadata": {},
     "output_type": "execute_result"
    }
   ],
   "source": [
    "str6 = 'Python and Data Science'\n",
    "str7 = str6.replace('Python', 'Machine Learning')\n",
    "str7"
   ]
  },
  {
   "cell_type": "code",
   "execution_count": 71,
   "id": "38f883a9",
   "metadata": {},
   "outputs": [
    {
     "data": {
      "text/plain": [
       "'JAVA and Data Science'"
      ]
     },
     "execution_count": 71,
     "metadata": {},
     "output_type": "execute_result"
    }
   ],
   "source": [
    "str6 = 'Python and Data Science'\n",
    "str7 = str6.replace('Python', 'JAVA')\n",
    "str7 "
   ]
  },
  {
   "cell_type": "code",
   "execution_count": 72,
   "id": "04c173ee",
   "metadata": {},
   "outputs": [
    {
     "name": "stdout",
     "output_type": "stream",
     "text": [
      "PYTHON is a prgramming language. PYTHON is used in Machine Learning.\n",
      "PYTHON is also used in Deep  Learning.\n"
     ]
    }
   ],
   "source": [
    "str8 = '''Python is a prgramming language. Python is used in Machine Learning.\n",
    "Python is also used in Deep  Learning.'''\n",
    "\n",
    "str9 = str8.replace('Python','PYTHON')\n",
    "print(str9)"
   ]
  },
  {
   "cell_type": "code",
   "execution_count": 75,
   "id": "fd1d8388",
   "metadata": {},
   "outputs": [
    {
     "name": "stdout",
     "output_type": "stream",
     "text": [
      "PYTHON is a prgramming language. PYTHON is used in Machine Learning.\n",
      "Python is also used in Deep  Learning.\n"
     ]
    }
   ],
   "source": [
    "str8 = '''Python is a prgramming language. Python is used in Machine Learning.\n",
    "Python is also used in Deep  Learning.'''\n",
    "\n",
    "str9 = str8.replace('Python','PYTHON', 2)\n",
    "print(str9)"
   ]
  },
  {
   "cell_type": "code",
   "execution_count": 76,
   "id": "bbaaf135",
   "metadata": {},
   "outputs": [
    {
     "name": "stdout",
     "output_type": "stream",
     "text": [
      "Python++is++a++prgramming++language.++Python++is++used++in++Machine++Learning.\n",
      "Python++is++also++used++in++Deep++++Learning.\n"
     ]
    }
   ],
   "source": [
    "str8 = '''Python is a prgramming language. Python is used in Machine Learning.\n",
    "Python is also used in Deep  Learning.'''\n",
    "\n",
    "str9 = str8.replace(' ','++')\n",
    "print(str9)"
   ]
  },
  {
   "cell_type": "code",
   "execution_count": 77,
   "id": "b59d263a",
   "metadata": {},
   "outputs": [
    {
     "name": "stdout",
     "output_type": "stream",
     "text": [
      "Python  is  a  prgramming  language.  Python  is  used  in  Machine  Learning.\n",
      "Python  is  also  used  in  Deep    Learning.\n"
     ]
    }
   ],
   "source": [
    "str8 = '''Python is a prgramming language. Python is used in Machine Learning.\n",
    "Python is also used in Deep  Learning.'''\n",
    "\n",
    "str9 = str8.replace(' ','  ')\n",
    "print(str9)"
   ]
  },
  {
   "cell_type": "code",
   "execution_count": 78,
   "id": "c7626365",
   "metadata": {},
   "outputs": [
    {
     "data": {
      "text/plain": [
       "'Python  is  a  prgramming  language.  Python  is  used  in  Machine  Learning.\\nPython  is  also  used  in  Deep    Learning.'"
      ]
     },
     "execution_count": 78,
     "metadata": {},
     "output_type": "execute_result"
    }
   ],
   "source": [
    "str8 = '''Python is a prgramming language. Python is used in Machine Learning.\n",
    "Python is also used in Deep  Learning.'''\n",
    "\n",
    "str8.replace(' ','  ')"
   ]
  },
  {
   "cell_type": "code",
   "execution_count": 79,
   "id": "7c258b47",
   "metadata": {},
   "outputs": [
    {
     "data": {
      "text/plain": [
       "'Java  is  a  prgramming  language.  Java  is  used  in  Machine  Learning.\\nJava  is  also  used  in  Deep    Learning.'"
      ]
     },
     "execution_count": 79,
     "metadata": {},
     "output_type": "execute_result"
    }
   ],
   "source": [
    "str8 = '''Python is a prgramming language. Python is used in Machine Learning.\n",
    "Python is also used in Deep  Learning.'''\n",
    "\n",
    "str8.replace(' ','  ').replace('Python','Java')"
   ]
  },
  {
   "cell_type": "code",
   "execution_count": 82,
   "id": "3ff30afe",
   "metadata": {},
   "outputs": [
    {
     "data": {
      "text/plain": [
       "[21, 45, 'hii', 'Bye', 88]"
      ]
     },
     "execution_count": 82,
     "metadata": {},
     "output_type": "execute_result"
    }
   ],
   "source": [
    "list(reversed(list1))"
   ]
  },
  {
   "cell_type": "code",
   "execution_count": 87,
   "id": "48fab5d3",
   "metadata": {},
   "outputs": [],
   "source": [
    "list1.append({4,6,1})"
   ]
  },
  {
   "cell_type": "code",
   "execution_count": 88,
   "id": "dea31d9f",
   "metadata": {},
   "outputs": [
    {
     "data": {
      "text/plain": [
       "[88, 'Bye', 'hii', 45, 21, {1, 4, 6}]"
      ]
     },
     "execution_count": 88,
     "metadata": {},
     "output_type": "execute_result"
    }
   ],
   "source": [
    "list1"
   ]
  },
  {
   "cell_type": "code",
   "execution_count": 89,
   "id": "1fe3e30f",
   "metadata": {},
   "outputs": [
    {
     "data": {
      "text/plain": [
       "{1, 4, 6}"
      ]
     },
     "execution_count": 89,
     "metadata": {},
     "output_type": "execute_result"
    }
   ],
   "source": [
    "list1[-1].isdisjoint"
   ]
  },
  {
   "cell_type": "code",
   "execution_count": 90,
   "id": "ca72d703",
   "metadata": {},
   "outputs": [
    {
     "data": {
      "text/plain": [
       "'n'"
      ]
     },
     "execution_count": 90,
     "metadata": {},
     "output_type": "execute_result"
    }
   ],
   "source": [
    "str1 = 'Python'\n",
    "str1[-1]"
   ]
  },
  {
   "cell_type": "code",
   "execution_count": 91,
   "id": "5113d99a",
   "metadata": {},
   "outputs": [
    {
     "data": {
      "text/plain": [
       "'1**2345'"
      ]
     },
     "execution_count": 91,
     "metadata": {},
     "output_type": "execute_result"
    }
   ],
   "source": [
    "str10 = '1.2345'\n",
    "str10.replace('.','**')"
   ]
  },
  {
   "cell_type": "markdown",
   "id": "d30ab6c3",
   "metadata": {},
   "source": [
    "#### 10. count"
   ]
  },
  {
   "cell_type": "code",
   "execution_count": null,
   "id": "56df0711",
   "metadata": {},
   "outputs": [],
   "source": [
    "str.count(substring, start_index, end_index)"
   ]
  },
  {
   "cell_type": "code",
   "execution_count": 92,
   "id": "e7002229",
   "metadata": {},
   "outputs": [
    {
     "data": {
      "text/plain": [
       "2"
      ]
     },
     "execution_count": 92,
     "metadata": {},
     "output_type": "execute_result"
    }
   ],
   "source": [
    "str1 = 'python is a programming lagauge'\n",
    "str1.count('p')"
   ]
  },
  {
   "cell_type": "code",
   "execution_count": 93,
   "id": "62721cb6",
   "metadata": {},
   "outputs": [
    {
     "data": {
      "text/plain": [
       "int"
      ]
     },
     "execution_count": 93,
     "metadata": {},
     "output_type": "execute_result"
    }
   ],
   "source": [
    "str1 = 'python is a programming lagauge'\n",
    "type(str1.count('p'))"
   ]
  },
  {
   "cell_type": "code",
   "execution_count": 94,
   "id": "d43db614",
   "metadata": {},
   "outputs": [
    {
     "data": {
      "text/plain": [
       "4"
      ]
     },
     "execution_count": 94,
     "metadata": {},
     "output_type": "execute_result"
    }
   ],
   "source": [
    "str1 = 'python is a programming lagauge'\n",
    "str1.count(' ')"
   ]
  },
  {
   "cell_type": "code",
   "execution_count": 95,
   "id": "6d783f49",
   "metadata": {},
   "outputs": [
    {
     "data": {
      "text/plain": [
       "0"
      ]
     },
     "execution_count": 95,
     "metadata": {},
     "output_type": "execute_result"
    }
   ],
   "source": [
    "str1 = 'python is a programming lagauge'\n",
    "str1.count('P')"
   ]
  },
  {
   "cell_type": "code",
   "execution_count": 96,
   "id": "1a400800",
   "metadata": {},
   "outputs": [
    {
     "data": {
      "text/plain": [
       "1"
      ]
     },
     "execution_count": 96,
     "metadata": {},
     "output_type": "execute_result"
    }
   ],
   "source": [
    "str1 = 'python is a programming lagauge'\n",
    "str1.count('python')"
   ]
  },
  {
   "cell_type": "code",
   "execution_count": 97,
   "id": "9d47d598",
   "metadata": {},
   "outputs": [
    {
     "data": {
      "text/plain": [
       "2"
      ]
     },
     "execution_count": 97,
     "metadata": {},
     "output_type": "execute_result"
    }
   ],
   "source": [
    "str1 = 'Python is a programming lagauge. Python is used in Data Science'\n",
    "str1.count('Python')"
   ]
  },
  {
   "cell_type": "code",
   "execution_count": 99,
   "id": "9600c4fd",
   "metadata": {},
   "outputs": [
    {
     "data": {
      "text/plain": [
       "3"
      ]
     },
     "execution_count": 99,
     "metadata": {},
     "output_type": "execute_result"
    }
   ],
   "source": [
    "str1 = 'Python is a programming lagauge. Python is used in Data Science'\n",
    "str2 = str1.lower()\n",
    "str2.count('p')"
   ]
  },
  {
   "cell_type": "code",
   "execution_count": 101,
   "id": "60c88144",
   "metadata": {},
   "outputs": [
    {
     "data": {
      "text/plain": [
       "3"
      ]
     },
     "execution_count": 101,
     "metadata": {},
     "output_type": "execute_result"
    }
   ],
   "source": [
    "str1 = 'Python is a programming lagauge. Python is used in Data Science'\n",
    "str1.lower().count('p')"
   ]
  },
  {
   "cell_type": "code",
   "execution_count": 103,
   "id": "94916c4f",
   "metadata": {},
   "outputs": [
    {
     "data": {
      "text/plain": [
       "3"
      ]
     },
     "execution_count": 103,
     "metadata": {},
     "output_type": "execute_result"
    }
   ],
   "source": [
    "str1 = 'Python is a programming lagauge. Python is used in Data Science'\n",
    "str1.upper().count('P')"
   ]
  },
  {
   "cell_type": "code",
   "execution_count": 108,
   "id": "f0a4ae9a",
   "metadata": {},
   "outputs": [
    {
     "data": {
      "text/plain": [
       "1"
      ]
     },
     "execution_count": 108,
     "metadata": {},
     "output_type": "execute_result"
    }
   ],
   "source": [
    "str1 = 'Python is a programming lagauge. Python is used in Data Science'\n",
    "str1[5:32]\n",
    "str1.lower().count('p',5,32)"
   ]
  },
  {
   "cell_type": "code",
   "execution_count": 109,
   "id": "0a97cfd6",
   "metadata": {},
   "outputs": [
    {
     "data": {
      "text/plain": [
       "2"
      ]
     },
     "execution_count": 109,
     "metadata": {},
     "output_type": "execute_result"
    }
   ],
   "source": [
    "str1 = 'Python is a programming lagauge. Python is used in Data Science'\n",
    "str1[5:32]\n",
    "str1.lower().count('p',5,50)"
   ]
  },
  {
   "cell_type": "code",
   "execution_count": 110,
   "id": "511ca5b8",
   "metadata": {},
   "outputs": [
    {
     "data": {
      "text/plain": [
       "2"
      ]
     },
     "execution_count": 110,
     "metadata": {},
     "output_type": "execute_result"
    }
   ],
   "source": [
    "str1 = 'Python is a programming lagauge. Python is used in Data Science'\n",
    "str1[5:32]\n",
    "str1.lower().count('p',5)      # str1[5:]"
   ]
  },
  {
   "cell_type": "code",
   "execution_count": 111,
   "id": "2f65243b",
   "metadata": {},
   "outputs": [
    {
     "data": {
      "text/plain": [
       "1"
      ]
     },
     "execution_count": 111,
     "metadata": {},
     "output_type": "execute_result"
    }
   ],
   "source": [
    "str1 = 'Python is a programming lagauge. Python is used in Data Science'\n",
    "str1[5:32]\n",
    "str1.lower().count('p',0,5)     "
   ]
  },
  {
   "cell_type": "markdown",
   "id": "bc2cf9ae",
   "metadata": {},
   "source": [
    "#### 11. index"
   ]
  },
  {
   "cell_type": "code",
   "execution_count": null,
   "id": "00dc9312",
   "metadata": {},
   "outputs": [],
   "source": [
    "str.index(sub_string, start_index, end_index)"
   ]
  },
  {
   "cell_type": "code",
   "execution_count": 112,
   "id": "0d0a3a87",
   "metadata": {},
   "outputs": [
    {
     "data": {
      "text/plain": [
       "24"
      ]
     },
     "execution_count": 112,
     "metadata": {},
     "output_type": "execute_result"
    }
   ],
   "source": [
    "str1 = 'Python is a programming lagauge. Python is used in Data Science'\n",
    "str1.index('l')"
   ]
  },
  {
   "cell_type": "code",
   "execution_count": 113,
   "id": "4b36caca",
   "metadata": {},
   "outputs": [
    {
     "data": {
      "text/plain": [
       "'l'"
      ]
     },
     "execution_count": 113,
     "metadata": {},
     "output_type": "execute_result"
    }
   ],
   "source": [
    "str1[24]"
   ]
  },
  {
   "cell_type": "code",
   "execution_count": 114,
   "id": "2e9461b7",
   "metadata": {},
   "outputs": [
    {
     "data": {
      "text/plain": [
       "33"
      ]
     },
     "execution_count": 114,
     "metadata": {},
     "output_type": "execute_result"
    }
   ],
   "source": [
    "str1 = 'Python is a programming lagauge. python is used in Data Science'\n",
    "str1.index('python')"
   ]
  },
  {
   "cell_type": "code",
   "execution_count": 115,
   "id": "47e067eb",
   "metadata": {},
   "outputs": [
    {
     "ename": "ValueError",
     "evalue": "substring not found",
     "output_type": "error",
     "traceback": [
      "\u001b[1;31m---------------------------------------------------------------------------\u001b[0m",
      "\u001b[1;31mValueError\u001b[0m                                Traceback (most recent call last)",
      "Input \u001b[1;32mIn [115]\u001b[0m, in \u001b[0;36m<cell line: 2>\u001b[1;34m()\u001b[0m\n\u001b[0;32m      1\u001b[0m str1 \u001b[38;5;241m=\u001b[39m \u001b[38;5;124m'\u001b[39m\u001b[38;5;124mPython is a programming lagauge. python is used in Data Science\u001b[39m\u001b[38;5;124m'\u001b[39m\n\u001b[1;32m----> 2\u001b[0m \u001b[43mstr1\u001b[49m\u001b[38;5;241;43m.\u001b[39;49m\u001b[43mindex\u001b[49m\u001b[43m(\u001b[49m\u001b[38;5;124;43m'\u001b[39;49m\u001b[38;5;124;43mpythoN\u001b[39;49m\u001b[38;5;124;43m'\u001b[39;49m\u001b[43m)\u001b[49m\n",
      "\u001b[1;31mValueError\u001b[0m: substring not found"
     ]
    }
   ],
   "source": [
    "str1 = 'Python is a programming lagauge. python is used in Data Science'\n",
    "str1.index('pythoN')"
   ]
  },
  {
   "cell_type": "code",
   "execution_count": 116,
   "id": "9a8fc4c1",
   "metadata": {},
   "outputs": [
    {
     "data": {
      "text/plain": [
       "6"
      ]
     },
     "execution_count": 116,
     "metadata": {},
     "output_type": "execute_result"
    }
   ],
   "source": [
    "str1 = 'Python is a programming lagauge. python is used in Data Science'\n",
    "str1.index(' ')"
   ]
  },
  {
   "cell_type": "code",
   "execution_count": 117,
   "id": "9ecead78",
   "metadata": {},
   "outputs": [
    {
     "data": {
      "text/plain": [
       "33"
      ]
     },
     "execution_count": 117,
     "metadata": {},
     "output_type": "execute_result"
    }
   ],
   "source": [
    "str1 = 'Python is a programming lagauge. python is used in Data Science'\n",
    "str1.index('python',10,50)"
   ]
  },
  {
   "cell_type": "code",
   "execution_count": 119,
   "id": "11343247",
   "metadata": {},
   "outputs": [
    {
     "data": {
      "text/plain": [
       "0"
      ]
     },
     "execution_count": 119,
     "metadata": {},
     "output_type": "execute_result"
    }
   ],
   "source": [
    "str1 = 'Python is a programming lagauge. python is used in Data Science'\n",
    "str1.lower().index('python',0,50)"
   ]
  },
  {
   "cell_type": "code",
   "execution_count": 120,
   "id": "c3772b09",
   "metadata": {},
   "outputs": [
    {
     "ename": "ValueError",
     "evalue": "substring not found",
     "output_type": "error",
     "traceback": [
      "\u001b[1;31m---------------------------------------------------------------------------\u001b[0m",
      "\u001b[1;31mValueError\u001b[0m                                Traceback (most recent call last)",
      "Input \u001b[1;32mIn [120]\u001b[0m, in \u001b[0;36m<cell line: 2>\u001b[1;34m()\u001b[0m\n\u001b[0;32m      1\u001b[0m str1 \u001b[38;5;241m=\u001b[39m \u001b[38;5;124m'\u001b[39m\u001b[38;5;124mPython is a programming lagauge. Python is used in Data Science\u001b[39m\u001b[38;5;124m'\u001b[39m\n\u001b[1;32m----> 2\u001b[0m \u001b[43mstr1\u001b[49m\u001b[38;5;241;43m.\u001b[39;49m\u001b[43mindex\u001b[49m\u001b[43m(\u001b[49m\u001b[38;5;124;43m'\u001b[39;49m\u001b[38;5;124;43mpython\u001b[39;49m\u001b[38;5;124;43m'\u001b[39;49m\u001b[43m)\u001b[49m\n",
      "\u001b[1;31mValueError\u001b[0m: substring not found"
     ]
    }
   ],
   "source": [
    "str1 = 'Python is a programming lagauge. Python is used in Data Science'\n",
    "str1.index('python')"
   ]
  },
  {
   "cell_type": "code",
   "execution_count": 121,
   "id": "0e4b15a8",
   "metadata": {},
   "outputs": [
    {
     "data": {
      "text/plain": [
       "-1"
      ]
     },
     "execution_count": 121,
     "metadata": {},
     "output_type": "execute_result"
    }
   ],
   "source": [
    "str1 = 'Python is a programming lagauge. Python is used in Data Science'\n",
    "str1.find('python')"
   ]
  },
  {
   "cell_type": "code",
   "execution_count": 122,
   "id": "085ab763",
   "metadata": {},
   "outputs": [
    {
     "data": {
      "text/plain": [
       "0"
      ]
     },
     "execution_count": 122,
     "metadata": {},
     "output_type": "execute_result"
    }
   ],
   "source": [
    "str1 = 'Python is a programming lagauge. Python is used in Data Science'\n",
    "str1.find('Python')"
   ]
  },
  {
   "cell_type": "code",
   "execution_count": null,
   "id": "26e6720b",
   "metadata": {},
   "outputs": [],
   "source": []
  },
  {
   "cell_type": "code",
   "execution_count": null,
   "id": "d390d805",
   "metadata": {},
   "outputs": [],
   "source": []
  },
  {
   "cell_type": "code",
   "execution_count": null,
   "id": "e1c58968",
   "metadata": {},
   "outputs": [],
   "source": []
  },
  {
   "cell_type": "code",
   "execution_count": null,
   "id": "be9bdeb6",
   "metadata": {},
   "outputs": [],
   "source": []
  },
  {
   "cell_type": "code",
   "execution_count": null,
   "id": "e73d1976",
   "metadata": {},
   "outputs": [],
   "source": []
  },
  {
   "cell_type": "code",
   "execution_count": null,
   "id": "0abce1d8",
   "metadata": {},
   "outputs": [],
   "source": []
  },
  {
   "cell_type": "code",
   "execution_count": null,
   "id": "a6c4ae1f",
   "metadata": {},
   "outputs": [],
   "source": []
  },
  {
   "cell_type": "code",
   "execution_count": null,
   "id": "89ab3257",
   "metadata": {},
   "outputs": [],
   "source": []
  },
  {
   "cell_type": "code",
   "execution_count": null,
   "id": "660fa28b",
   "metadata": {},
   "outputs": [],
   "source": []
  },
  {
   "cell_type": "code",
   "execution_count": null,
   "id": "da71b4a7",
   "metadata": {},
   "outputs": [],
   "source": []
  },
  {
   "cell_type": "code",
   "execution_count": null,
   "id": "c28be858",
   "metadata": {},
   "outputs": [],
   "source": []
  },
  {
   "cell_type": "code",
   "execution_count": null,
   "id": "b96e61e7",
   "metadata": {},
   "outputs": [],
   "source": []
  }
 ],
 "metadata": {
  "kernelspec": {
   "display_name": "Python 3 (ipykernel)",
   "language": "python",
   "name": "python3"
  },
  "language_info": {
   "codemirror_mode": {
    "name": "ipython",
    "version": 3
   },
   "file_extension": ".py",
   "mimetype": "text/x-python",
   "name": "python",
   "nbconvert_exporter": "python",
   "pygments_lexer": "ipython3",
   "version": "3.10.6"
  }
 },
 "nbformat": 4,
 "nbformat_minor": 5
}
