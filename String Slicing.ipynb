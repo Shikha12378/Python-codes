{
 "cells": [
  {
   "cell_type": "markdown",
   "id": "f3ba23a5",
   "metadata": {},
   "source": [
    "## String Slicing"
   ]
  },
  {
   "cell_type": "code",
   "execution_count": 1,
   "id": "a8fc2ef4",
   "metadata": {},
   "outputs": [
    {
     "data": {
      "text/plain": [
       "'Velo'"
      ]
     },
     "execution_count": 1,
     "metadata": {},
     "output_type": "execute_result"
    }
   ],
   "source": [
    "str1 = 'Velocity'\n",
    "str1[:4]"
   ]
  },
  {
   "cell_type": "code",
   "execution_count": 2,
   "id": "3db658b2",
   "metadata": {},
   "outputs": [
    {
     "data": {
      "text/plain": [
       "'ocity'"
      ]
     },
     "execution_count": 2,
     "metadata": {},
     "output_type": "execute_result"
    }
   ],
   "source": [
    "str1[-5:]"
   ]
  },
  {
   "cell_type": "code",
   "execution_count": 4,
   "id": "d255398e",
   "metadata": {},
   "outputs": [
    {
     "data": {
      "text/plain": [
       "'loc'"
      ]
     },
     "execution_count": 4,
     "metadata": {},
     "output_type": "execute_result"
    }
   ],
   "source": [
    "str1[2:5]\n",
    "str1[-6:-3]"
   ]
  },
  {
   "cell_type": "markdown",
   "id": "9cc033a8",
   "metadata": {},
   "source": [
    "#### Step Size"
   ]
  },
  {
   "cell_type": "code",
   "execution_count": null,
   "id": "10653557",
   "metadata": {},
   "outputs": [],
   "source": [
    "string[start_index : end_index: step_size]\n",
    "start_index >> 0\n",
    "end_index >> len(string)\n",
    "step_size >> 1"
   ]
  },
  {
   "cell_type": "code",
   "execution_count": 5,
   "id": "3f43f41d",
   "metadata": {},
   "outputs": [
    {
     "data": {
      "text/plain": [
       "'Python'"
      ]
     },
     "execution_count": 5,
     "metadata": {},
     "output_type": "execute_result"
    }
   ],
   "source": [
    "str1 = 'Python'\n",
    "str1[:]"
   ]
  },
  {
   "cell_type": "code",
   "execution_count": 6,
   "id": "1ba52855",
   "metadata": {},
   "outputs": [
    {
     "data": {
      "text/plain": [
       "'Python'"
      ]
     },
     "execution_count": 6,
     "metadata": {},
     "output_type": "execute_result"
    }
   ],
   "source": [
    "str1[::]"
   ]
  },
  {
   "cell_type": "code",
   "execution_count": 7,
   "id": "7788ee96",
   "metadata": {},
   "outputs": [
    {
     "data": {
      "text/plain": [
       "'Python'"
      ]
     },
     "execution_count": 7,
     "metadata": {},
     "output_type": "execute_result"
    }
   ],
   "source": [
    "str1[::1]"
   ]
  },
  {
   "cell_type": "code",
   "execution_count": 8,
   "id": "980d59e1",
   "metadata": {},
   "outputs": [
    {
     "data": {
      "text/plain": [
       "'Pto'"
      ]
     },
     "execution_count": 8,
     "metadata": {},
     "output_type": "execute_result"
    }
   ],
   "source": [
    "str1 = 'Python'\n",
    "str1[::2]  # P t o"
   ]
  },
  {
   "cell_type": "code",
   "execution_count": 9,
   "id": "006e0d35",
   "metadata": {},
   "outputs": [
    {
     "data": {
      "text/plain": [
       "'Ph'"
      ]
     },
     "execution_count": 9,
     "metadata": {},
     "output_type": "execute_result"
    }
   ],
   "source": [
    "str1 = 'Python'\n",
    "str1[::3]  # P h"
   ]
  },
  {
   "cell_type": "code",
   "execution_count": 10,
   "id": "92caab0e",
   "metadata": {},
   "outputs": [
    {
     "data": {
      "text/plain": [
       "'Miln aa afanln(  prieifsohsftnlis t   tm rguypiiar.'"
      ]
     },
     "execution_count": 10,
     "metadata": {},
     "output_type": "execute_result"
    }
   ],
   "source": [
    "str2 = '''Machine learning is a branch of artificial intelligence (AI) and computer science which\n",
    "focuses on the use of data and algorithms to imitate the way that humans learn, gradually improving its accuracy.'''\n",
    "str2[::4]    # skip 3 char"
   ]
  },
  {
   "cell_type": "code",
   "execution_count": 11,
   "id": "19006097",
   "metadata": {},
   "outputs": [
    {
     "data": {
      "text/plain": [
       "'Mnaganfiatg  ctcecc hedaltti whu nalpnsu.'"
      ]
     },
     "execution_count": 11,
     "metadata": {},
     "output_type": "execute_result"
    }
   ],
   "source": [
    "str2 = '''Machine learning is a branch of artificial intelligence (AI) and computer science which\n",
    "focuses on the use of data and algorithms to imitate the way that humans learn, gradually improving its accuracy.'''\n",
    "str2[::5]    # skip 4 char"
   ]
  },
  {
   "cell_type": "markdown",
   "id": "a852e597",
   "metadata": {},
   "source": [
    "#### Negative Step Size"
   ]
  },
  {
   "cell_type": "code",
   "execution_count": 12,
   "id": "6d985934",
   "metadata": {},
   "outputs": [
    {
     "data": {
      "text/plain": [
       "'gninraeL enihcaM'"
      ]
     },
     "execution_count": 12,
     "metadata": {},
     "output_type": "execute_result"
    }
   ],
   "source": [
    "str3 = 'Machine Learning'\n",
    "str3[::-1]   # reversed the string"
   ]
  },
  {
   "cell_type": "code",
   "execution_count": 13,
   "id": "ebc82144",
   "metadata": {},
   "outputs": [
    {
     "data": {
      "text/plain": [
       "'Machine Learning'"
      ]
     },
     "execution_count": 13,
     "metadata": {},
     "output_type": "execute_result"
    }
   ],
   "source": [
    "str3[::1]"
   ]
  },
  {
   "cell_type": "code",
   "execution_count": 14,
   "id": "ac433214",
   "metadata": {},
   "outputs": [
    {
     "data": {
      "text/plain": [
       "'Machine '"
      ]
     },
     "execution_count": 14,
     "metadata": {},
     "output_type": "execute_result"
    }
   ],
   "source": [
    "str3[:8:1]"
   ]
  },
  {
   "cell_type": "code",
   "execution_count": 15,
   "id": "36e33fd4",
   "metadata": {},
   "outputs": [
    {
     "data": {
      "text/plain": [
       "'gninrae'"
      ]
     },
     "execution_count": 15,
     "metadata": {},
     "output_type": "execute_result"
    }
   ],
   "source": [
    "str3[:8:-1]"
   ]
  },
  {
   "cell_type": "code",
   "execution_count": 17,
   "id": "49afd9f9",
   "metadata": {},
   "outputs": [
    {
     "data": {
      "text/plain": [
       "' enihcaM'"
      ]
     },
     "execution_count": 17,
     "metadata": {},
     "output_type": "execute_result"
    }
   ],
   "source": [
    "str3[7::-1]"
   ]
  },
  {
   "cell_type": "code",
   "execution_count": 18,
   "id": "6a1e1cd0",
   "metadata": {},
   "outputs": [
    {
     "data": {
      "text/plain": [
       "'gire nha'"
      ]
     },
     "execution_count": 18,
     "metadata": {},
     "output_type": "execute_result"
    }
   ],
   "source": [
    "str3[::-2]"
   ]
  },
  {
   "cell_type": "code",
   "execution_count": 19,
   "id": "4c5bf84b",
   "metadata": {},
   "outputs": [
    {
     "data": {
      "text/plain": [
       "'gneehM'"
      ]
     },
     "execution_count": 19,
     "metadata": {},
     "output_type": "execute_result"
    }
   ],
   "source": [
    "str3[::-3]"
   ]
  },
  {
   "cell_type": "code",
   "execution_count": null,
   "id": "7ea080a5",
   "metadata": {},
   "outputs": [],
   "source": []
  },
  {
   "cell_type": "code",
   "execution_count": null,
   "id": "368ecfdf",
   "metadata": {},
   "outputs": [],
   "source": []
  }
 ],
 "metadata": {
  "kernelspec": {
   "display_name": "Python 3 (ipykernel)",
   "language": "python",
   "name": "python3"
  },
  "language_info": {
   "codemirror_mode": {
    "name": "ipython",
    "version": 3
   },
   "file_extension": ".py",
   "mimetype": "text/x-python",
   "name": "python",
   "nbconvert_exporter": "python",
   "pygments_lexer": "ipython3",
   "version": "3.10.6"
  }
 },
 "nbformat": 4,
 "nbformat_minor": 5
}
